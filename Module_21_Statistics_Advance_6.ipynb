{
  "nbformat": 4,
  "nbformat_minor": 0,
  "metadata": {
    "colab": {
      "provenance": []
    },
    "kernelspec": {
      "name": "python3",
      "display_name": "Python 3"
    },
    "language_info": {
      "name": "python"
    }
  },
  "cells": [
    {
      "cell_type": "markdown",
      "source": [
        "Q1. Explain the assumptions required to use ANOVA and provide examples of violations that could impact\n",
        "the validity of the results."
      ],
      "metadata": {
        "id": "TNRRlkUezOB2"
      }
    },
    {
      "cell_type": "markdown",
      "source": [
        "Assumptions required to use ANOVA:\n",
        "\n",
        "Independence of observations: Each observation should be independent of all other observations.\n",
        "Normality: The residuals (the differences between observed and predicted values) should be normally distributed for each group.\n",
        "Homogeneity of variances: The variance of the residuals should be constant across all groups (homoscedasticity)."
      ],
      "metadata": {
        "id": "ndHqEWoUzPIf"
      }
    },
    {
      "cell_type": "markdown",
      "source": [
        "Q2. What are the three types of ANOVA, and in what situations would each be used?"
      ],
      "metadata": {
        "id": "j4PqtlBGzTIl"
      }
    },
    {
      "cell_type": "markdown",
      "source": [
        "Three types of ANOVA and their uses:\n",
        "\n",
        "=One-way ANOVA: Compares means across two or more groups for a single independent variable. It is used when there is only one categorical independent variable.\n",
        "=Two-way ANOVA: Compares means across two or more groups for two independent variables. It is used when there are two categorical independent variables, allowing for the examination of main effects and interaction effects.\n",
        "=N-way ANOVA: Extends the concept of ANOVA to more than two independent variables."
      ],
      "metadata": {
        "id": "xy7mSvabzWhK"
      }
    },
    {
      "cell_type": "markdown",
      "source": [
        "Q3. What is the partitioning of variance in ANOVA, and why is it important to understand this concept?"
      ],
      "metadata": {
        "id": "CSuy6FjrzcNl"
      }
    },
    {
      "cell_type": "markdown",
      "source": [
        " Partitioning of variance in ANOVA:\n",
        "\n",
        "=Total Sum of Squares (SST): Represents the total variation in the dependent variable.\n",
        "=Explained Sum of Squares (SSE): Represents the variation in the dependent variable explained by the independent variable(s).\n",
        "=Residual Sum of Squares (SSR): Represents the unexplained variation in the dependent variable after accounting for the effects of the independent variable(s)"
      ],
      "metadata": {
        "id": "3ELxZaz0zgCB"
      }
    },
    {
      "cell_type": "markdown",
      "source": [
        "Q4. How would you calculate the total sum of squares (SST), explained sum of squares (SSE), and residual\n",
        "sum of squares (SSR) in a one-way ANOVA using Python?"
      ],
      "metadata": {
        "id": "FMaZo3wPzlRy"
      }
    },
    {
      "cell_type": "code",
      "source": [
        "import numpy as np\n",
        "import scipy.stats as stats\n",
        "\n",
        "# Example data for three groups\n",
        "group1 = np.array([10, 12, 15, 18])\n",
        "group2 = np.array([13, 14, 16, 19])\n",
        "group3 = np.array([11, 13, 14, 17])\n",
        "\n",
        "# Calculate means\n",
        "grand_mean = np.mean(np.concatenate([group1, group2, group3]))\n",
        "group_means = np.array([np.mean(group1), np.mean(group2), np.mean(group3)])\n",
        "\n",
        "# Calculate SST\n",
        "SST = np.sum((np.concatenate([group1, group2, group3]) - grand_mean) ** 2)\n",
        "\n",
        "# Calculate SSE\n",
        "SSE = np.sum((group1 - group_means[0]) ** 2) + np.sum((group2 - group_means[1]) ** 2) + np.sum((group3 - group_means[2]) ** 2)\n",
        "\n",
        "# Calculate SSR\n",
        "SSR = SST - SSE\n",
        "\n",
        "print(\"Total Sum of Squares (SST):\", SST)\n",
        "print(\"Explained Sum of Squares (SSE):\", SSE)\n",
        "print(\"Residual Sum of Squares (SSR):\", SSR)"
      ],
      "metadata": {
        "id": "_CpAuFchzorx"
      },
      "execution_count": null,
      "outputs": []
    },
    {
      "cell_type": "markdown",
      "source": [
        "Q5. In a two-way ANOVA, how would you calculate the main effects and interaction effects using Python?"
      ],
      "metadata": {
        "id": "3ttXJ43yzsgW"
      }
    },
    {
      "cell_type": "code",
      "source": [
        "import numpy as np\n",
        "import scipy.stats as stats\n",
        "\n",
        "# Example data for two factors (A and B)\n",
        "factor_A = np.array([1, 2, 3, 4])  # Levels of factor A\n",
        "factor_B = np.array([5, 6, 7, 8])  # Levels of factor B\n",
        "observations = np.array([[10, 12, 15, 18],\n",
        "                         [13, 14, 16, 19],\n",
        "                         [11, 13, 14, 17]])\n",
        "\n",
        "# Calculate main effects\n",
        "mean_A = np.mean(factor_A)\n",
        "mean_B = np.mean(factor_B)\n",
        "mean_obs = np.mean(observations)\n",
        "main_effect_A = np.sum((mean_obs - np.mean(observations, axis=1)) ** 2)\n",
        "main_effect_B = np.sum((mean_obs - np.mean(observations, axis=0)) ** 2)\n",
        "\n",
        "# Calculate interaction effect\n",
        "interaction_effect = np.sum((observations - np.mean(observations, axis=0) - np.mean(observations, axis=1)[:, np.newaxis] + mean_obs) ** 2)\n",
        "\n",
        "print(\"Main effect of Factor A:\", main_effect_A)\n",
        "print(\"Main effect of Factor B:\", main_effect_B)\n",
        "print(\"Interaction effect:\", interaction_effect)"
      ],
      "metadata": {
        "id": "XlHHYplLzwMu"
      },
      "execution_count": null,
      "outputs": []
    },
    {
      "cell_type": "markdown",
      "source": [
        "Q6. Suppose you conducted a one-way ANOVA and obtained an F-statistic of 5.23 and a p-value of 0.02.\n",
        "What can you conclude about the differences between the groups, and how would you interpret these\n",
        "results?"
      ],
      "metadata": {
        "id": "8Sh0hmOfz0Ht"
      }
    },
    {
      "cell_type": "markdown",
      "source": [
        "With an F-statistic of 5.23 and a p-value of 0.02 obtained from a one-way ANOVA:\n",
        "\n",
        "=Conclusions: The differences between the groups are statistically significant.\n",
        "=Interpretation: The probability of observing such extreme differences between group means by random chance alone is 0.02, assuming that the null hypothesis (no difference between group means) is true. Therefore, we reject the null hypothesis and conclude that there are significant differences between at least two of the groups."
      ],
      "metadata": {
        "id": "80VP_11Nz-E7"
      }
    },
    {
      "cell_type": "markdown",
      "source": [
        "Q7. In a repeated measures ANOVA, how would you handle missing data, and what are the potential\n",
        "consequences of using different methods to handle missing data?"
      ],
      "metadata": {
        "id": "qQK4Tpao0zv2"
      }
    },
    {
      "cell_type": "markdown",
      "source": [
        "Handling missing data in repeated measures ANOVA:\n",
        "\n",
        "=One common approach is to use pairwise deletion, where missing data are ignored on a pairwise basis for each comparison. This method may result in a loss of statistical power.\n",
        "=Another approach is to use mean substitution, where missing values are replaced with the mean of the available data. However, this method may bias the results, especially if missing values are not missing at random."
      ],
      "metadata": {
        "id": "tZVacBkL02ad"
      }
    },
    {
      "cell_type": "markdown",
      "source": [
        "Q8. What are some common post-hoc tests used after ANOVA, and when would you use each one? Provide\n",
        "an example of a situation where a post-hoc test might be necessary."
      ],
      "metadata": {
        "id": "lgL1tJ_50-MH"
      }
    },
    {
      "cell_type": "markdown",
      "source": [
        "Common post-hoc tests used after ANOVA:\n",
        "\n",
        "=Tukey's Honestly Significant Difference (HSD) test: Used to determine which specific groups differ significantly from each other. It controls the familywise error rate.\n",
        "=Bonferroni correction: Adjusts the significance level for multiple comparisons to avoid Type I errors.\n",
        "=Scheffe's method: Provides a more conservative approach for controlling Type I errors compared to Tukey's HSD test, suitable for unequal sample sizes or unequal variances."
      ],
      "metadata": {
        "id": "8W8yWyHc1BaX"
      }
    },
    {
      "cell_type": "markdown",
      "source": [
        "Q9. A researcher wants to compare the mean weight loss of three diets: A, B, and C. They collect data from\n",
        "50 participants who were randomly assigned to one of the diets. Conduct a one-way ANOVA using Python\n",
        "to determine if there are any significant differences between the mean weight loss of the three diets.\n",
        "Report the F-statistic and p-value, and interpret the results."
      ],
      "metadata": {
        "id": "HA2K_DU81HOG"
      }
    },
    {
      "cell_type": "code",
      "source": [
        "import scipy.stats as stats\n",
        "\n",
        "# Example data\n",
        "weight_loss_A = [3, 5, 4, 6, 7, 2, 3, 4, 5, 6]\n",
        "weight_loss_B = [2, 4, 3, 5, 6, 1, 2, 3, 4, 5]\n",
        "weight_loss_C = [1, 3, 2, 4, 5, 0, 1, 2, 3, 4]\n",
        "\n",
        "# Conduct one-way ANOVA\n",
        "f_statistic, p_value = stats.f_oneway(weight_loss_A, weight_loss_B, weight_loss_C)\n",
        "\n",
        "print(\"F-statistic:\", f_statistic)\n",
        "print(\"p-value:\", p_value)\n",
        "\n",
        "if p_value < 0.05:\n",
        "    print(\"There are significant differences between the mean weight loss of the three diets.\")\n",
        "else:\n",
        "    print(\"There are no significant differences between the mean weight loss of the three diets.\")"
      ],
      "metadata": {
        "id": "yKqmpdXV1Jsb"
      },
      "execution_count": null,
      "outputs": []
    },
    {
      "cell_type": "markdown",
      "source": [
        "Q10. A company wants to know if there are any significant differences in the average time it takes to\n",
        "complete a task using three different software programs: Program A, Program B, and Program C. They\n",
        "randomly assign 30 employees to one of the programs and record the time it takes each employee to\n",
        "complete the task. Conduct a two-way ANOVA using Python to determine if there are any main effects or\n",
        "interaction effects between the software programs and employee experience level (novice vs.\n",
        "experienced). Report the F-statistics and p-values, and interpret the results."
      ],
      "metadata": {
        "id": "zsqqIrgt1TLw"
      }
    },
    {
      "cell_type": "code",
      "source": [
        "import statsmodels.api as sm\n",
        "from statsmodels.formula.api import ols\n",
        "\n",
        "# Example data\n",
        "# Create DataFrame with columns: Time (dependent variable), Program (factor A), Experience (factor B)\n",
        "# Perform two-way ANOVA\n",
        "model = ols('Time ~ Program + Experience + Program:Experience', data=data).fit()\n",
        "anova_table = sm.stats.anova_lm(model, typ=2)\n",
        "\n",
        "print(anova_table)\n"
      ],
      "metadata": {
        "id": "upqMVItG1V1O"
      },
      "execution_count": null,
      "outputs": []
    },
    {
      "cell_type": "markdown",
      "source": [
        "Q11. An educational researcher is interested in whether a new teaching method improves student test\n",
        "scores. They randomly assign 100 students to either the control group (traditional teaching method) or the\n",
        "experimental group (new teaching method) and administer a test at the end of the semester. Conduct a\n",
        "two-sample t-test using Python to determine if there are any significant differences in test scores\n",
        "between the two groups. If the results are significant, follow up with a post-hoc test to determine which\n",
        "group(s) differ significantly from each other."
      ],
      "metadata": {
        "id": "CFRCcblD1Z3J"
      }
    },
    {
      "cell_type": "code",
      "source": [
        "import numpy as np\n",
        "import scipy.stats as stats\n",
        "from statsmodels.stats.multicomp import pairwise_tukeyhsd\n",
        "\n",
        "# Example data\n",
        "control_group = np.array([80, 85, 78, 82, 87, 79, 81, 83, 86, 84])\n",
        "experimental_group = np.array([88, 90, 84, 92, 89, 86, 91, 87, 85, 93])\n",
        "\n",
        "# Conduct two-sample t-test\n",
        "t_statistic, p_value = stats.ttest_ind(control_group, experimental_group)\n",
        "\n",
        "print(\"Two-sample t-test results:\")\n",
        "print(\"t-statistic:\", t_statistic)\n",
        "print(\"p-value:\", p_value)\n",
        "\n",
        "if p_value < 0.05:\n",
        "    print(\"There is a significant difference in test scores between the control and experimental groups.\")\n",
        "    # Follow up with post-hoc test\n",
        "    tukey_results = pairwise_tukeyhsd(np.concatenate([control_group, experimental_group]),\n",
        "                                      np.concatenate([np.repeat('Control', len(control_group)),\n",
        "                                                      np.repeat('Experimental', len(experimental_group))]))\n",
        "    print(tukey_results)\n",
        "else:\n",
        "    print(\"There is no significant difference in test scores between the control and experimental groups.\")"
      ],
      "metadata": {
        "id": "iTwuqWlI1f5Y"
      },
      "execution_count": null,
      "outputs": []
    },
    {
      "cell_type": "markdown",
      "source": [
        "Q12. A researcher wants to know if there are any significant differences in the average daily sales of three\n",
        "retail stores: Store A, Store B, and Store C. They randomly select 30 days and record the sales for each store\n",
        "on those days. Conduct a repeated measures ANOVA using Python to determine if there are any\n",
        "\n",
        "significant differences in sales between the three stores. If the results are significant, follow up with a post-\n",
        "hoc test to determine which store(s) differ significantly from each other."
      ],
      "metadata": {
        "id": "OVXrA_R81uhU"
      }
    },
    {
      "cell_type": "code",
      "source": [
        "import pandas as pd\n",
        "import statsmodels.api as sm\n",
        "from statsmodels.formula.api import ols\n",
        "from statsmodels.stats.anova import AnovaRM\n",
        "\n",
        "# Example data\n",
        "# Create DataFrame with columns: Sales (dependent variable), Store (within-subjects factor)\n",
        "# Perform repeated measures ANOVA\n",
        "model = AnovaRM(data=df, depvar='Sales', within=['Store']).fit()\n",
        "anova_table = model.anova_table\n",
        "\n",
        "print(anova_table)\n",
        "\n",
        "# Follow up with post-hoc test (e.g., Tukey's HSD)\n",
        "tukey_results = pairwise_tukeyhsd(df['Sales'], df['Store'])\n",
        "print(tukey_results)"
      ],
      "metadata": {
        "id": "nMg2HPA61xKY"
      },
      "execution_count": null,
      "outputs": []
    }
  ]
}